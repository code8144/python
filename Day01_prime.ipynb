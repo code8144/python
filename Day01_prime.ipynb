{
 "cells": [
  {
   "cell_type": "code",
   "execution_count": 10,
   "id": "6e5d93e7",
   "metadata": {},
   "outputs": [
    {
     "name": "stdout",
     "output_type": "stream",
     "text": [
      "prime\n"
     ]
    }
   ],
   "source": [
    "# 소수 1과 자기자신으로만 나누어 떨어지는 수. ex)2, 3, ,5, 7..\n",
    "n = 23\n",
    "flag = 0\n",
    "\n",
    "for i in range(2, n):\n",
    "    if n%i == 0:\n",
    "        print('Not prime')\n",
    "        break\n",
    "\n",
    "if flag == 0:\n",
    "    print('prime')"
   ]
  },
  {
   "cell_type": "code",
   "execution_count": 9,
   "id": "3d781cc8",
   "metadata": {},
   "outputs": [
    {
     "name": "stdout",
     "output_type": "stream",
     "text": [
      "[2, 3, 5, 7, 11, 13, 17, 19, 23, 29, 31, 37, 41, 43, 47, 53, 59, 61, 67, 71, 73, 79, 83, 89, 97, 101, 103, 107, 109, 113, 127, 131, 137, 139, 149, 151, 157, 163, 167, 173, 179, 181, 191, 193, 197, 199, 211, 223, 227, 229, 233, 239, 241, 251, 257, 263, 269, 271, 277, 281, 283, 293, 307, 311, 313, 317, 331, 337, 347, 349, 353, 359, 367, 373, 379, 383, 389, 397, 401, 409, 419, 421, 431, 433, 439, 443, 449, 457, 461, 463, 467, 479, 487, 491, 499, 503, 509, 521, 523, 541, 547, 557, 563, 569, 571, 577, 587, 593, 599, 601, 607, 613, 617, 619, 631, 641, 643, 647, 653, 659, 661, 673, 677, 683, 691, 701, 709, 719, 727, 733, 739, 743, 751, 757, 761, 769, 773, 787, 797, 809, 811, 821, 823, 827, 829, 839, 853, 857, 859, 863, 877, 881, 883, 887, 907, 911, 919, 929, 937, 941, 947, 953, 967, 971, 977, 983, 991, 997]\n"
     ]
    }
   ],
   "source": [
    "# 1000 아래 모든 소수를 list_prime에 넣기.\n",
    "\n",
    "prime_list = []\n",
    "for n in range(2, 1000):\n",
    "    #n = 23\n",
    "    flag = 0\n",
    "\n",
    "    for i in range(2, n):\n",
    "        if n%i == 0:\n",
    "            #print('Not prime')\n",
    "            flag = 1\n",
    "            break\n",
    "\n",
    "    if flag == 0:\n",
    "        prime_list.append(n)\n",
    "        #print('prime', n)\n",
    "        \n",
    "print(prime_list)"
   ]
  },
  {
   "cell_type": "code",
   "execution_count": null,
   "id": "a4f6ecf5",
   "metadata": {},
   "outputs": [],
   "source": [
    "def is_prime(n):\n",
    "    for i in range(2, n):\n",
    "        if n%i == 0:\n",
    "            return False\n",
    "    return True\n",
    "\n",
    "#is_prime(23) #returns True\n",
    "#is_prime(24) #returns false"
   ]
  },
  {
   "cell_type": "code",
   "execution_count": 2,
   "id": "e9858117",
   "metadata": {},
   "outputs": [
    {
     "ename": "NameError",
     "evalue": "name 'is_prime' is not defined",
     "output_type": "error",
     "traceback": [
      "\u001b[1;31m---------------------------------------------------------------------------\u001b[0m",
      "\u001b[1;31mNameError\u001b[0m                                 Traceback (most recent call last)",
      "Cell \u001b[1;32mIn[2], line 3\u001b[0m\n\u001b[0;32m      1\u001b[0m prime_list \u001b[39m=\u001b[39m []\n\u001b[0;32m      2\u001b[0m \u001b[39mfor\u001b[39;00m n \u001b[39min\u001b[39;00m \u001b[39mrange\u001b[39m(\u001b[39m2\u001b[39m, \u001b[39m100\u001b[39m):\n\u001b[1;32m----> 3\u001b[0m     \u001b[39mif\u001b[39;00m is_prime(n)\u001b[39m==\u001b[39m\u001b[39mTrue\u001b[39;00m:\n\u001b[0;32m      4\u001b[0m         prime_list\u001b[39m.\u001b[39mappend(n)\n\u001b[0;32m      6\u001b[0m \u001b[39mprint\u001b[39m(prime_list)\n",
      "\u001b[1;31mNameError\u001b[0m: name 'is_prime' is not defined"
     ]
    }
   ],
   "source": [
    "prime_list = []\n",
    "for n in range(2, 100):\n",
    "    if is_prime(n) == True:\n",
    "        prime_list.append(n)\n",
    "\n",
    "print(prime_list)"
   ]
  }
 ],
 "metadata": {
  "kernelspec": {
   "display_name": "Python 3",
   "language": "python",
   "name": "python3"
  },
  "language_info": {
   "codemirror_mode": {
    "name": "ipython",
    "version": 3
   },
   "file_extension": ".py",
   "mimetype": "text/x-python",
   "name": "python",
   "nbconvert_exporter": "python",
   "pygments_lexer": "ipython3",
   "version": "3.10.9"
  },
  "vscode": {
   "interpreter": {
    "hash": "08804ff59ba42edf801cabf0150036e830ede650fb4c74b1d2ab081b0e1a309a"
   }
  }
 },
 "nbformat": 4,
 "nbformat_minor": 5
}
