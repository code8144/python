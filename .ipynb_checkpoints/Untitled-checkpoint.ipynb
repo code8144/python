{
 "cells": [
  {
   "cell_type": "code",
   "execution_count": 4,
   "id": "91238b7c",
   "metadata": {},
   "outputs": [
    {
     "name": "stdout",
     "output_type": "stream",
     "text": [
      "myfunction\n"
     ]
    }
   ],
   "source": [
    "# 함수\n",
    "# define\n",
    "def function_name():\n",
    "    print('myfunction')\n",
    "\n",
    "function_name()"
   ]
  },
  {
   "cell_type": "code",
   "execution_count": 8,
   "id": "1677beee",
   "metadata": {},
   "outputs": [
    {
     "name": "stdout",
     "output_type": "stream",
     "text": [
      "fn7 start\n",
      "abc def\n"
     ]
    }
   ],
   "source": [
    "# function argument\n",
    "def myfn1():\n",
    "    print('myfn1')\n",
    "\n",
    "def myfn2(arg1):\n",
    "    print(arg1)\n",
    "\n",
    "def myfn3(arg1='a', arg2='b'):\n",
    "    print(arg1, arg2)\n",
    "    \n",
    "def myfn4(*arg1):\n",
    "    for i in arg1:\n",
    "        print(i)\n",
    "\n",
    "def myfn5(arg1, *, arg2, arg3):\n",
    "    print(arg1, arg2, arg3)\n",
    "\n",
    "def myfn6(arg1, /, arg2, arg3): #포지션 아규로 고정\n",
    "    print(arg1, arg2, arg3)\n",
    "\n",
    "def myfn7(arg1, arg2):\n",
    "    print(arg1)\n",
    "    arg2('abc', 'def')\n",
    "    \n",
    "#myfn2('abc')\n",
    "#myfn3(10, 20)\n",
    "#myfn3(arg2 = 10, arg1 = 20)\n",
    "#myfn3()\n",
    "#myfn4(1,2,3,4)\n",
    "#myfn2([1,2,3,4])\n",
    "#myfn5('a', arg2 = 'b', arg3 = 'c')\n",
    "#myfn6('a', 'b', 'c')\n",
    "#myfn6(arg1 = 'a', arg2 = 'b', arg3 = 'c')\n",
    "myfn7('fn7 start', myfn3)"
   ]
  },
  {
   "cell_type": "code",
   "execution_count": 11,
   "id": "277d5c59",
   "metadata": {},
   "outputs": [
    {
     "name": "stdout",
     "output_type": "stream",
     "text": [
      "(10, 20)\n"
     ]
    }
   ],
   "source": [
    "# function return\n",
    "def myfn8():\n",
    "    print('myfn8')\n",
    "\n",
    "def myfn9():\n",
    "    return 10\n",
    "\n",
    "def myfn10():\n",
    "    return 10, 20\n",
    "\n",
    "#ret_value = myfn8()\n",
    "ret_value = myfn10()\n",
    "print(ret_value)"
   ]
  }
 ],
 "metadata": {
  "kernelspec": {
   "display_name": "Python 3 (ipykernel)",
   "language": "python",
   "name": "python3"
  },
  "language_info": {
   "codemirror_mode": {
    "name": "ipython",
    "version": 3
   },
   "file_extension": ".py",
   "mimetype": "text/x-python",
   "name": "python",
   "nbconvert_exporter": "python",
   "pygments_lexer": "ipython3",
   "version": "3.10.9 (tags/v3.10.9:1dd9be6, Dec  6 2022, 20:01:21) [MSC v.1934 64 bit (AMD64)]"
  },
  "vscode": {
   "interpreter": {
    "hash": "08804ff59ba42edf801cabf0150036e830ede650fb4c74b1d2ab081b0e1a309a"
   }
  }
 },
 "nbformat": 4,
 "nbformat_minor": 5
}
