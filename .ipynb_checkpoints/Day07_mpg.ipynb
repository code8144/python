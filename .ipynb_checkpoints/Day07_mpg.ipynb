{
 "cells": [
  {
   "attachments": {},
   "cell_type": "markdown",
   "metadata": {},
   "source": [
    "## 자동차 연비 데이터 정제\n",
    "\n",
    "uci repo url : https://archive.ics.uci.edu/ml/machine-learning-databases/auto-mpg/auto-mpg.data\n",
    "\n",
    "* requests 패키지 이용 데이터 로딩.\n",
    "* 최대한 많이 정제"
   ]
  }
 ],
 "metadata": {
  "language_info": {
   "name": "python"
  },
  "orig_nbformat": 4
 },
 "nbformat": 4,
 "nbformat_minor": 2
}
