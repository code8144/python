{
 "cells": [
  {
   "cell_type": "code",
   "execution_count": 189,
   "metadata": {},
   "outputs": [
    {
     "name": "stdout",
     "output_type": "stream",
     "text": [
      "[5, 4, 2, 6, 1, 3]\n"
     ]
    }
   ],
   "source": [
    "import random\n",
    "\n",
    "lista = [1,2,3,4,5,6]\n",
    "random.shuffle(lista)\n",
    "print(lista)"
   ]
  },
  {
   "cell_type": "code",
   "execution_count": 214,
   "metadata": {},
   "outputs": [
    {
     "name": "stdout",
     "output_type": "stream",
     "text": [
      "['clover', 'diamond', 'heart', 'spade']\n",
      "['Ace', '2', '3', '4', '5', '6', '7', '8', '9', '10', 'Jack', 'Queen', 'King']\n"
     ]
    }
   ],
   "source": [
    "suits = ['clover', 'diamond', 'heart', 'spade']\n",
    "#rank = ['Ace', '2'...'10', 'Jack', 'Queen', 'King']\n",
    "\n",
    "rank = [str(i) for i in range(2, 11)]\n",
    "rank = ['Ace'] + rank + ['Jack', 'Queen', 'King']\n",
    "print(suits)\n",
    "print(rank)\n"
   ]
  },
  {
   "cell_type": "code",
   "execution_count": 208,
   "metadata": {},
   "outputs": [
    {
     "name": "stdout",
     "output_type": "stream",
     "text": [
      "[1, 2, 3, 4, 5, 6, 7, 8, 9, 10, 10, 10, 10, 1, 2, 3, 4, 5, 6, 7, 8, 9, 10, 10, 10, 10, 1, 2, 3, 4, 5, 6, 7, 8, 9, 10, 10, 10, 10, 1, 2, 3, 4, 5, 6, 7, 8, 9, 10, 10, 10, 10]\n",
      "['clover-Ace', 'clover-2', 'clover-3', 'clover-4', 'clover-5', 'clover-6', 'clover-7', 'clover-8', 'clover-9', 'clover-10', 'clover-Jack', 'clover-Queen', 'clover-King', 'diamond-Ace', 'diamond-2', 'diamond-3', 'diamond-4', 'diamond-5', 'diamond-6', 'diamond-7', 'diamond-8', 'diamond-9', 'diamond-10', 'diamond-Jack', 'diamond-Queen', 'diamond-King', 'heart-Ace', 'heart-2', 'heart-3', 'heart-4', 'heart-5', 'heart-6', 'heart-7', 'heart-8', 'heart-9', 'heart-10', 'heart-Jack', 'heart-Queen', 'heart-King', 'spade-Ace', 'spade-2', 'spade-3', 'spade-4', 'spade-5', 'spade-6', 'spade-7', 'spade-8', 'spade-9', 'spade-10', 'spade-Jack', 'spade-Queen', 'spade-King']\n"
     ]
    }
   ],
   "source": [
    "Deck = []               # 'Clover-Ace', 'Clover-2',......\n",
    "for s in suits:\n",
    "    for r in rank:\n",
    "        Deck.append(s+'-'+r)\n",
    "\n",
    "score_list = [i+1 for i in range(10)]\n",
    "score_list = score_list + [10]*3\n",
    "score_list = score_list*4\n",
    "score_dict = dict(zip(Deck, score_list))\n",
    "#print(Deck)\n",
    "print(score_list)\n",
    "\n",
    "\n",
    "def score_hand(hand):\n",
    "    score = 0\n",
    "    for card in hand:\n",
    "        score = score_dict[card]\n",
    "    return score\n",
    "\n",
    "print(Deck)\n",
    "    \n"
   ]
  },
  {
   "cell_type": "code",
   "execution_count": 201,
   "metadata": {},
   "outputs": [
    {
     "name": "stdout",
     "output_type": "stream",
     "text": [
      "['clover-7', 'diamond-6', 'spade-7', 'diamond-10', 'heart-Ace', 'clover-2', 'heart-King', 'spade-Jack', 'spade-5', 'heart-Jack', 'diamond-3', 'clover-3', 'spade-9', 'clover-Queen', 'heart-2', 'clover-4', 'spade-3', 'spade-King', 'diamond-2', 'heart-6', 'heart-10', 'heart-9', 'heart-5', 'clover-5', 'diamond-Queen', 'diamond-Jack', 'spade-Ace', 'spade-10', 'clover-King', 'spade-2', 'clover-6', 'clover-Ace', 'clover-9', 'spade-Queen', 'spade-4', 'diamond-4', 'diamond-9', 'diamond-King', 'heart-4', 'heart-8', 'heart-Queen', 'heart-7', 'heart-3', 'diamond-8', 'clover-8', 'diamond-5', 'clover-Jack', 'diamond-7', 'clover-10', 'spade-6', 'spade-8', 'diamond-Ace']\n"
     ]
    }
   ],
   "source": [
    "random.shuffle(Deck)\n",
    "print(Deck)"
   ]
  },
  {
   "cell_type": "code",
   "execution_count": 213,
   "metadata": {},
   "outputs": [
    {
     "name": "stdout",
     "output_type": "stream",
     "text": [
      "Game Start\n",
      "\n",
      "Dealer Hands\n",
      "['diamond-7', 'clover-5'] 5\n",
      "\n",
      "Player hands\n",
      "['clover-4', 'spade-Queen'] 10\n"
     ]
    }
   ],
   "source": [
    "print('Game Start\\n')\n",
    "random.shuffle(Deck)\n",
    "print('Dealer Hands')\n",
    "dealer_hand = [Deck.pop() for _ in range(2)]\n",
    "print(dealer_hand, score_hand(dealer_hand))\n",
    "\n",
    "print('\\nPlayer hands')\n",
    "player_hand = [Deck.pop() for i in range(2)]\n",
    "print(player_hand, score_hand(player_hand))\n",
    "\n",
    "if score_hand(player_hand) < 21:\n",
    "    ans = input('Deal(1) or Stop(0):')\n",
    "    if ans == 1:\n",
    "        player_hand.append(Deck.pop())\n",
    "        print(player_hand, score_hand(player_hand))"
   ]
  }
 ],
 "metadata": {
  "kernelspec": {
   "display_name": "Python 3",
   "language": "python",
   "name": "python3"
  },
  "language_info": {
   "codemirror_mode": {
    "name": "ipython",
    "version": 3
   },
   "file_extension": ".py",
   "mimetype": "text/x-python",
   "name": "python",
   "nbconvert_exporter": "python",
   "pygments_lexer": "ipython3",
   "version": "3.10.9"
  },
  "orig_nbformat": 4,
  "vscode": {
   "interpreter": {
    "hash": "08804ff59ba42edf801cabf0150036e830ede650fb4c74b1d2ab081b0e1a309a"
   }
  }
 },
 "nbformat": 4,
 "nbformat_minor": 2
}
