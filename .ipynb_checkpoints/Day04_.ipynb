{
 "cells": [
  {
   "cell_type": "code",
   "execution_count": 12,
   "metadata": {},
   "outputs": [
    {
     "name": "stdout",
     "output_type": "stream",
     "text": [
      "[['보행자전용도로명', '시도명', '시군'], ['소로3-안영13호선', '대전광역'], ['소로3-안영14호선', '대전광역'], ['소로3-안영15호선', '대전광역'], ['소로3-안영16호선', '대전광역'], ['소로3-안영17호선', '대전광역'], ['소로3-안영18호선', '대전광역'], ['소로3-안영19호선', '대전광역'], ['소로4-안영1호선', '대전광역시'], ['소로3-용두37호선', '대전광역'], ['소로3-태평25호선', '대전광역'], ['소로3-태평26호선', '대전광역'], ['월곡로43길', '대구광역시', '달서'], ['월곡로43길', '대구광역시', '달서'], ['구마로36길', '대구광역시', '달서']]\n"
     ]
    }
   ],
   "source": [
    "csv_data =[]\n",
    "with open('전국보행자전용도로표준데이터.csv') as f:\n",
    "    for line in f:\n",
    "        csv_data.append(my_split(line))\n",
    "print(csv_data[:3])\n",
    "split_len(csv_data)"
   ]
  },
  {
   "cell_type": "code",
   "execution_count": 13,
   "metadata": {},
   "outputs": [],
   "source": [
    "def split_len(data_list):\n",
    "    len_list = []\n",
    "    for e in data_list:\n",
    "        len_list.append(len(e))\n",
    "    print(set(len_list))\n",
    "    if len(set(len_list))>1:\n",
    "        for i in set(len_list):\n",
    "            print(i, len_list.count(i))\n",
    "\n"
   ]
  }
 ],
 "metadata": {
  "kernelspec": {
   "display_name": "Python 3",
   "language": "python",
   "name": "python3"
  },
  "language_info": {
   "codemirror_mode": {
    "name": "ipython",
    "version": 3
   },
   "file_extension": ".py",
   "mimetype": "text/x-python",
   "name": "python",
   "nbconvert_exporter": "python",
   "pygments_lexer": "ipython3",
   "version": "3.10.9"
  },
  "orig_nbformat": 4,
  "vscode": {
   "interpreter": {
    "hash": "08804ff59ba42edf801cabf0150036e830ede650fb4c74b1d2ab081b0e1a309a"
   }
  }
 },
 "nbformat": 4,
 "nbformat_minor": 2
}
