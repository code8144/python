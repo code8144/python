{
 "cells": [
  {
   "cell_type": "code",
   "execution_count": 27,
   "metadata": {},
   "outputs": [],
   "source": [
    "import pickle\n",
    "\n",
    "csv_data=[]\n",
    "line_no = 0\n",
    "with open('국적별_외국인_현황_20230207151037.csv') as f:\n",
    "    for line in f:\n",
    "        line_no = line_no + 1\n",
    "        if line_no == 2:\n",
    "            continue\n",
    "        t = line[:-1].split(',')\n",
    "        del t[1]\n",
    "        csv_data.append(t)\n",
    "\n",
    "for e in csv_data:\n",
    "    e[0] = e[0].strip('\"')\n",
    "\n",
    "for e in csv_data[1:]:\n",
    "    for i, value in enumerate(e[1:]):\n",
    "        e[i+1] = int(value)\n",
    "\n",
    "#print(csv_data)\n",
    "with open('2020_10-2020_11.pickle', 'wb') as f:\n",
    "    pickle.dump(csv_data, f)"
   ]
  },
  {
   "cell_type": "code",
   "execution_count": 34,
   "metadata": {},
   "outputs": [
    {
     "name": "stdout",
     "output_type": "stream",
     "text": [
      "[['시점', '베트남', '중국', '한국계 중국인', '미국', '인도네시아', '필리핀', '우즈베키스탄', '타이완', '일본', '미얀마', '한국계 러시아인', '캄보디아', '러시아(연방)', '네팔', '캐나다', '스리랑카', '파키스탄', '타이', '몽골'], ['2020.1', 11393, 7503, 5080, 2608, 2561, 1749, 1730, 1425, 1297, 1241, 1097, 1038, 1034, 981, 796, 664, 611, 582, 512], ['2020.11', 11378, 7445, 5017, 2615, 2521, 1735, 1707, 1417, 1289, 1196, 1090, 1024, 1019, 978, 796, 652, 600, 573, 517], ['2020.12', 11320, 7352, 4972, 2644, 2520, 1729, 1690, 1403, 1278, 1205, 1080, 1013, 992, 977, 797, 636, 597, 566, 514], ['2021.01', 11305, 7140, 4923, 2644, 2519, 1717, 1658, 1389, 1288, 1188, 1073, 1019, 980, 982, 797, 622, 595, 564, 510], ['2021.02', 11341, 6904, 4866, 2647, 2498, 1702, 1621, 1390, 1271, 1184, 1060, 1023, 966, 970, 787, 612, 588, 556, 512], ['2021.03', 11423, 7133, 4810, 2671, 2507, 1695, 1613, 1407, 1351, 1196, 1061, 1030, 971, 959, 785, 592, 588, 567, 512], ['2021.04', 11339, 7139, 4763, 2685, 2470, 1679, 1621, 1399, 1365, 1191, 1059, 1053, 979, 935, 787, 581, 586, 575, 514], ['2021.05', 11238, 7079, 4705, 2674, 2410, 1669, 1659, 1397, 1368, 1171, 1046, 1063, 969, 937, 786, 574, 590, 577, 494], ['2021.06', 11232, 6979, 4670, 2651, 2472, 1655, 1651, 1392, 1390, 1215, 1039, 1086, 965, 935, 795, 579, 583, 571, 495]]\n",
      "{'베트남': 11232, '중국': 6897, '한국계 중국인': 4364, '인도네시아': 3047, '미국': 2961, '우즈베키스탄': 2006, '필리핀': 1750, '일본': 1589, '미얀마': 1430, '타이완': 1356, '한국계 러시아인': 1149, '캄보디아': 1127, '러시아(연방)': 1041, '네팔': 995, '캐나다': 895, '타이': 628, '스리랑카': 626, '파키스탄': 615, '몽골': 581}\n",
      "{'베트남': 11232, '중국': 6897, '한국계 중국인': 4364, '인도네시아': 3047, '미국': 2961, '우즈베키스탄': 2006, '필리핀': 1750, '일본': 1589, '미얀마': 1430, '타이완': 1356, '한국계 러시아인': 1149, '캄보디아': 1127, '러시아(연방)': 1041, '네팔': 995, '캐나다': 895, '타이': 628, '스리랑카': 626, '파키스탄': 615, '몽골': 581}\n"
     ]
    }
   ],
   "source": [
    "print(csv_data[:10])\n",
    "\n",
    "def get_numbers(data_list, year, month):\n",
    "    for e in data_list:\n",
    "        if '{}.{}'.format(year, month) in e:\n",
    "            return e\n",
    "    return None\n",
    "\n",
    "get_numbers(csv_data, 2022, 11)\n",
    "\n",
    "count_list = get_numbers(csv_data, 2022, 11)\n",
    "count_list = count_list[1:]\n",
    "country_list = csv_data[0][1:]\n",
    "#print(count_list, len(count_list))\n",
    "#print(count_list, len(country_list))\n",
    "\n",
    "percent_list = []\n",
    "for n in count_list:\n",
    "    percent_list.append((n*100)/sum(count_list))\n",
    " #   print(percent_list)\n",
    "\n",
    "count_dict = dict(sorted(zip(country_list,count_list), key = lambda x:x[1], reverse = True))\n",
    "percent_dict = dict(sorted(zip(country_list,count_list), key = lambda x:x[1], reverse = True))\n",
    "\n",
    "print(count_dict)\n",
    "print(percent_dict)"
   ]
  },
  {
   "cell_type": "code",
   "execution_count": 38,
   "metadata": {},
   "outputs": [
    {
     "name": "stdout",
     "output_type": "stream",
     "text": [
      "[286729, 180829, 120323, 71395, 68029, 43388, 43050, 35875, 37199, 32396, 27852, 27798, 25823, 24184, 21500, 15042, 15175, 15540, 13328]\n",
      "[11028.038461538461, 6954.961538461538, 4627.807692307692, 2745.9615384615386, 2616.5, 1668.7692307692307, 1655.7692307692307, 1379.8076923076924, 1430.7307692307693, 1246.0, 1071.2307692307693, 1069.1538461538462, 993.1923076923077, 930.1538461538462, 826.9230769230769, 578.5384615384615, 583.6538461538462, 597.6923076923077, 512.6153846153846]\n",
      "{'베트남': 11028.038461538461, '중국': 6954.961538461538, '한국계 중국인': 4627.807692307692, '미국': 2745.9615384615386, '인도네시아': 2616.5, '필리핀': 1668.7692307692307, '우즈베키스탄': 1655.7692307692307, '일본': 1430.7307692307693, '타이완': 1379.8076923076924, '미얀마': 1246.0, '한국계 러시아인': 1071.2307692307693, '캄보디아': 1069.1538461538462, '러시아(연방)': 993.1923076923077, '네팔': 930.1538461538462, '캐나다': 826.9230769230769, '타이': 597.6923076923077, '파키스탄': 583.6538461538462, '스리랑카': 578.5384615384615, '몽골': 512.6153846153846}\n"
     ]
    }
   ],
   "source": [
    "total_count = [0]*len(country_list)\n",
    "\n",
    "for e in csv_data[1:]:\n",
    "    for i, n in enumerate(e[1:]):\n",
    "        total_count[i] = total_count[i] + n\n",
    "\n",
    "print(total_count)\n",
    "for i, total in enumerate (total_count):\n",
    "    total_count[i] = total_count[i]/len(csv_data[1:])\n",
    "    \n",
    "print(total_count) \n",
    "\n",
    "count_dict = dict(sorted(zip(country_list, total_count), key = lambda x:x[1], reverse = True))\n",
    "#percent_dict = dict(sorted(zip(country_list,count_list), key = lambda x:x[1], reverse = True))\n",
    "\n",
    "print(count_dict)\n",
    "#print(percent_dict)"
   ]
  },
  {
   "cell_type": "code",
   "execution_count": 41,
   "metadata": {},
   "outputs": [
    {
     "name": "stdout",
     "output_type": "stream",
     "text": [
      "mystring\n"
     ]
    }
   ],
   "source": [
    "s = 'mystring\\n'\n",
    "print(s[0:-1])"
   ]
  }
 ],
 "metadata": {
  "kernelspec": {
   "display_name": "Python 3",
   "language": "python",
   "name": "python3"
  },
  "language_info": {
   "codemirror_mode": {
    "name": "ipython",
    "version": 3
   },
   "file_extension": ".py",
   "mimetype": "text/x-python",
   "name": "python",
   "nbconvert_exporter": "python",
   "pygments_lexer": "ipython3",
   "version": "3.10.9"
  },
  "orig_nbformat": 4,
  "vscode": {
   "interpreter": {
    "hash": "08804ff59ba42edf801cabf0150036e830ede650fb4c74b1d2ab081b0e1a309a"
   }
  }
 },
 "nbformat": 4,
 "nbformat_minor": 2
}
