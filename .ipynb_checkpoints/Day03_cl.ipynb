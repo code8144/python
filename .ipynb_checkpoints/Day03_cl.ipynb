{
 "cells": [
  {
   "cell_type": "code",
   "execution_count": 10,
   "metadata": {},
   "outputs": [
    {
     "name": "stdout",
     "output_type": "stream",
     "text": [
      "<class '__main__.myclass'>\n",
      "0 aaa\n"
     ]
    }
   ],
   "source": [
    "class myclass:\n",
    "    myvar1 = 10\n",
    "    myvar2 = 'abc'\n",
    "\n",
    "    def __init__(self, a=0, b='aaa'):\n",
    "        self.myvar1 = 0\n",
    "        self.myvar2 = 'aaa'\n",
    "\n",
    "    def mymethod1(self, n):\n",
    "        print(self.myvar1 * n, self.myvar2)\n",
    "    \n",
    "    def __str__(self):\n",
    "        return 'my class : {}, {}'.format(self.myvar1, self.myvar2)\n",
    "\n",
    "a = myclass(100, 'def')\n",
    "print(type(a))\n",
    "a.mymethod1(5)"
   ]
  },
  {
   "cell_type": "code",
   "execution_count": 3,
   "metadata": {},
   "outputs": [
    {
     "ename": "NameError",
     "evalue": "name 'myclass' is not defined",
     "output_type": "error",
     "traceback": [
      "\u001b[1;31m---------------------------------------------------------------------------\u001b[0m",
      "\u001b[1;31mNameError\u001b[0m                                 Traceback (most recent call last)",
      "Cell \u001b[1;32mIn[3], line 1\u001b[0m\n\u001b[1;32m----> 1\u001b[0m \u001b[39mclass\u001b[39;00m \u001b[39mmyclass2\u001b[39;00m(myclass):\n\u001b[0;32m      2\u001b[0m     \u001b[39mpass\u001b[39;00m\n\u001b[0;32m      4\u001b[0m b \u001b[39m=\u001b[39m myclass2()\n",
      "\u001b[1;31mNameError\u001b[0m: name 'myclass' is not defined"
     ]
    }
   ],
   "source": [
    "class myclass2(myclass):\n",
    "    pass\n",
    "\n",
    "b = myclass2()\n",
    "b.mymethod1(10)"
   ]
  },
  {
   "cell_type": "code",
   "execution_count": null,
   "metadata": {},
   "outputs": [],
   "source": [
    "help(str)"
   ]
  }
 ],
 "metadata": {
  "kernelspec": {
   "display_name": "Python 3",
   "language": "python",
   "name": "python3"
  },
  "language_info": {
   "codemirror_mode": {
    "name": "ipython",
    "version": 3
   },
   "file_extension": ".py",
   "mimetype": "text/x-python",
   "name": "python",
   "nbconvert_exporter": "python",
   "pygments_lexer": "ipython3",
   "version": "3.10.9"
  },
  "orig_nbformat": 4,
  "vscode": {
   "interpreter": {
    "hash": "08804ff59ba42edf801cabf0150036e830ede650fb4c74b1d2ab081b0e1a309a"
   }
  }
 },
 "nbformat": 4,
 "nbformat_minor": 2
}
