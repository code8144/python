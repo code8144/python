{
 "cells": [
  {
   "cell_type": "code",
   "execution_count": 6,
   "metadata": {},
   "outputs": [
    {
     "name": "stdout",
     "output_type": "stream",
     "text": [
      "15.132745950421556\n",
      "x: 2 -4\n",
      "x: 15 -75\n",
      "15.132745950421556\n",
      "15.132745950421556\n"
     ]
    }
   ],
   "source": [
    "import numpy as np\n",
    "import math\n",
    "\n",
    "x1 = 3\n",
    "y1 = 10\n",
    "\n",
    "x2 = 5\n",
    "y2 = 25\n",
    "\n",
    "a = math.sqrt((x2-x1)**2 + (y2-y1)**2)\n",
    "print(a)\n",
    "\n",
    "#def dist(p1,p2):       @python list version\n",
    "#   return math.sqrt((p2[0]-p1[0])**2 + (p2[1]-p1[1])**2)\n",
    "\n",
    "def dist(p1,p2):        #python list version\n",
    "    print('x:', (p2[0]-p1[0]), p2[0]-p1[0]**2)\n",
    "    print('x:', (p2[1]-p1[1]), p2[1]-p1[1]**2)\n",
    "    return math.sqrt((p2[0]-p1[0])**2 + (p2[1]-p1[1])**2)\n",
    "\n",
    "def dist_np(p1, p2):\n",
    "    i = p2 - p1 #[2, 15]\n",
    "    i = sum(i*i) #[4, 225]\n",
    "    return math.sqrt(i)\n",
    "\n",
    "b = dist([x1, y1], [x2, y2])\n",
    "print(b)\n",
    "\n",
    "c = dist_np(np.array([x1, y1]), np.array([x2, y2]))\n",
    "print(c)"
   ]
  }
 ],
 "metadata": {
  "kernelspec": {
   "display_name": "Python 3",
   "language": "python",
   "name": "python3"
  },
  "language_info": {
   "codemirror_mode": {
    "name": "ipython",
    "version": 3
   },
   "file_extension": ".py",
   "mimetype": "text/x-python",
   "name": "python",
   "nbconvert_exporter": "python",
   "pygments_lexer": "ipython3",
   "version": "3.10.9"
  },
  "orig_nbformat": 4,
  "vscode": {
   "interpreter": {
    "hash": "08804ff59ba42edf801cabf0150036e830ede650fb4c74b1d2ab081b0e1a309a"
   }
  }
 },
 "nbformat": 4,
 "nbformat_minor": 2
}
