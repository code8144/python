{
 "cells": [
  {
   "cell_type": "code",
   "execution_count": 13,
   "metadata": {},
   "outputs": [
    {
     "name": "stdout",
     "output_type": "stream",
     "text": [
      "[10, 20, 30]\n",
      "['유재석', '조세호', '박명수']\n",
      "1\n",
      "['유재석', '조세호', '박명수', '하하']\n",
      "['유재석', '정형돈', '조세호', '박명수', '하하']\n",
      "2\n",
      "[1, 2, 3, 4, 5]\n",
      "[5, 4, 3, 2, 1]\n",
      "[]\n",
      "['조세호', 20, True]\n",
      "[5, 2, 4, 3, 1, '조세호', 20, True]\n"
     ]
    }
   ],
   "source": [
    "#리스트 []\n",
    "\n",
    "#지하철 칸별로 10명, 20명, 30명\n",
    "# subway1 = 10\n",
    "# subway2 = 20\n",
    "# subway3 = 30\n",
    "\n",
    "subway = [10, 20, 30]\n",
    "print(subway)\n",
    "\n",
    "subway = ['유재석', '조세호', '박명수']\n",
    "print(subway)\n",
    "\n",
    "#조세호가 몇 번째 칸에 타고 있는가\n",
    "print(subway.index('조세호'))\n",
    "\n",
    "#하하가 다음 정류장에서 다음 칸에 탐\n",
    "subway.append('하하')\n",
    "print(subway)\n",
    "\n",
    "#정형돈을 유재석 / 조세호 사이에 태움\n",
    "subway.insert(1, '정형돈')\n",
    "print(subway)\n",
    "\n",
    "#지하철에 있는 사람을 한명씩 뒤에서 꺼냄\n",
    "# print(subway.pop())\n",
    "# print(subway)\n",
    "# print(subway.pop())\n",
    "# print(subway)\n",
    "# print(subway.pop())\n",
    "# print(subway)\n",
    "\n",
    "#같은 이름의 사람이 몇명 있는지 확인\n",
    "subway.append('유재석')\n",
    "print(subway.count(\"유재석\"))\n",
    "\n",
    "#정렬도 가능\n",
    "num_list = [5,2,4,3,1]\n",
    "num_list.sort()\n",
    "print(num_list)\n",
    "\n",
    "#순서 뒤집기 가능\n",
    "num_list.reverse()\n",
    "print(num_list)\n",
    "\n",
    "# 모두 지우기\n",
    "num_list.clear()\n",
    "print(num_list)\n",
    "\n",
    "#다양한 자료형 함께 사용\n",
    "num_list = [5,2,4,3,1]\n",
    "mix_list = ['조세호', 20, True]\n",
    "print(mix_list)\n",
    "\n",
    "#리스트 확장\n",
    "num_list.extend(mix_list)\n",
    "print(num_list)"
   ]
  },
  {
   "cell_type": "code",
   "execution_count": 28,
   "metadata": {},
   "outputs": [
    {
     "name": "stdout",
     "output_type": "stream",
     "text": [
      "유재석\n",
      "김태호\n",
      "True\n",
      "False\n",
      "유재석\n",
      "김태호\n",
      "{'A-3': '김종국', 'B-100': '김태호'}\n",
      "{'B-100': '김태호'}\n",
      "dict_keys(['B-100'])\n",
      "dict_values(['김태호'])\n",
      "dict_items([('B-100', '김태호')])\n"
     ]
    }
   ],
   "source": [
    "#dictionary 사전\n",
    "cabinet = {3:'유재석', 100:'김태호'}\n",
    "print(cabinet[3])\n",
    "print(cabinet[100])\n",
    "\n",
    "print(3 in cabinet)\n",
    "print(5 in cabinet)\n",
    "\n",
    "cabinet = {'A-3' : '유재석', 'B-100' : '김태호'}\n",
    "print(cabinet['A-3'])\n",
    "print(cabinet['B-100'])\n",
    "\n",
    "#새 손님\n",
    "cabinet['A-3'] = '김종국'\n",
    "print(cabinet)\n",
    "\n",
    "#간 손님\n",
    "del cabinet['A-3']\n",
    "print(cabinet)\n",
    "\n",
    "#key값만 출력\n",
    "print(cabinet.keys())\n",
    "\n",
    "#value값만 출력\n",
    "print(cabinet.values())\n",
    "\n",
    "# key, value값 쌍으로 출력\n",
    "print(cabinet.items())\n",
    "\n",
    "# 목욕탕 폐점\n",
    "cabinet.clear()\n"
   ]
  },
  {
   "cell_type": "code",
   "execution_count": 2,
   "metadata": {},
   "outputs": [
    {
     "name": "stdout",
     "output_type": "stream",
     "text": [
      "돈가스\n",
      "치즈가스\n"
     ]
    }
   ],
   "source": [
    "#tuple 내용 변경불가\n",
    "menu = ('돈가스', '치즈가스')\n",
    "print(menu[0])\n",
    "print(menu[1])\n",
    "\n",
    "name = '김종국'\n",
    "age = 20\n",
    "hobby = '코딩' "
   ]
  },
  {
   "cell_type": "code",
   "execution_count": 41,
   "metadata": {},
   "outputs": [
    {
     "name": "stdout",
     "output_type": "stream",
     "text": [
      "{1, 2, 3}\n",
      "{'유재석'}\n",
      "{'유재석', '양세형', '박명수', '김태호'}\n",
      "{'유재석', '양세형', '박명수', '김태호'}\n",
      "{'양세형', '김태호'}\n",
      "{'양세형', '김태호'}\n",
      "{'박명수', '유재석', '김태호'}\n",
      "{'유재석', '양세형'}\n",
      "{'우유', '커피', '주스'} <class 'set'>\n",
      "['우유', '커피', '주스'] <class 'list'>\n",
      "('우유', '커피', '주스') <class 'tuple'>\n",
      "{'우유', '커피', '주스'} <class 'set'>\n"
     ]
    }
   ],
   "source": [
    "#집합 (set)\n",
    "#중복 안됨, 순서 없음\n",
    "my_set = {1,2,3,3,3}\n",
    "print(my_set)\n",
    "\n",
    "java = {'유재석', '김태호', '양세형'}\n",
    "python = set(['유재석', '박명수'])\n",
    "\n",
    "#교집합 (java 와 python을 모두 할 수 있는 개발자)\n",
    "print(java & python)\n",
    "\n",
    "#합집합(java를 할 수 있거나 python을 할 수 있는 개발자)\n",
    "print(java | python)\n",
    "print(java.union(python))\n",
    "\n",
    "#차집합 (java는 할 수 있지만 python을 할 줄 모르는 개발자)\n",
    "print(java - python)\n",
    "print(java.difference(python))\n",
    "\n",
    "#python 할 줄 아는 사람이 늘어남\n",
    "python.add('김태호')\n",
    "print(python)\n",
    "\n",
    "#java 하는법을 잊음\n",
    "java.remove('김태호')\n",
    "print(java)\n",
    "\n",
    "#자료구조의 변경\n",
    "#커피숍\n",
    "menu = {'커피', '우유', '주스'}\n",
    "print(menu, type(menu))\n",
    "\n",
    "menu = list(menu)\n",
    "print(menu, type(menu))\n",
    "\n",
    "menu = tuple(menu)\n",
    "print(menu, type(menu))\n",
    "\n",
    "menu = set(menu)\n",
    "print(menu, type(menu))"
   ]
  },
  {
   "cell_type": "code",
   "execution_count": null,
   "metadata": {},
   "outputs": [],
   "source": [
    "Quiz) 당신의 학교에서는 파이썬 코딩 대회를 주최합니다.\n",
    "참석률을 높이기 위해 댓글 이벤트를 진행하기로 하였습니다.\n",
    "댓글 작정자들 중에 추첨을 통해 1명은 치킨, 3명은 커피 쿠폰을 받게 됩니다.\n",
    "추첨 프로그램을 작성하시오.\n",
    "\n",
    "조건1 : 편의상 댓글은 20명이 작성하였고 아이디는 1~20 이라고 가정\n",
    "조건2 : 댓글 내용과 상관 없이 무작위로 추첨하되 중복 불가\n",
    "조건3 : random 모듈의 shuffle 과 sample을 활용\n",
    "\n",
    "(출력 예제)\n",
    " -- 당첨자 발표 --\n",
    " 치킨 당첨자 : 1\n",
    " 커피 당첨자 : [2,3,4]\n",
    "  -- 축하합니다 --\n",
    "\n",
    "(활용 예제)\n",
    "from random import *\n",
    "1st = [1,2,3,4,5]\n",
    "print(1st)\n",
    "shuffle(1st)\n",
    "print(1st)\n",
    "print(sample(1st, 1))"
   ]
  },
  {
   "cell_type": "code",
   "execution_count": 111,
   "metadata": {},
   "outputs": [
    {
     "name": "stdout",
     "output_type": "stream",
     "text": [
      "[1, 2, 3, 4, 5, 6, 7, 8, 9, 10, 11, 12, 13, 14, 15, 16, 17, 18, 19, 20]\n",
      "[17, 6, 5, 14, 13, 16, 2, 7, 12, 3, 20, 19, 1, 11, 9, 15, 4, 18, 8, 10]\n",
      " -- 당첨자 발표 -- \n",
      "치킨 당첨자 : 18\n",
      "커피 당첨자 : [20, 16, 1]\n",
      " -- 축하합니다 -- \n"
     ]
    }
   ],
   "source": [
    "from random import *\n",
    "users = range(1, 21) #1부터 20까지 숫자 생성\n",
    "#print(type(users))\n",
    "users = list(users)\n",
    "#print(type(users))\n",
    "\n",
    "print(users)\n",
    "shuffle(users)\n",
    "print(users)\n",
    "\n",
    "winners = sample(users, 4) #4명 중에서 1명은 치킨, 3명은 커피\n",
    "\n",
    "print(' -- 당첨자 발표 -- ')\n",
    "print('치킨 당첨자 : {0}'.format(winners[0]))\n",
    "print('커피 당첨자 : {0}'.format(winners[1:]))\n",
    "print(' -- 축하합니다 -- ')"
   ]
  }
 ],
 "metadata": {
  "kernelspec": {
   "display_name": "Python 3",
   "language": "python",
   "name": "python3"
  },
  "language_info": {
   "codemirror_mode": {
    "name": "ipython",
    "version": 3
   },
   "file_extension": ".py",
   "mimetype": "text/x-python",
   "name": "python",
   "nbconvert_exporter": "python",
   "pygments_lexer": "ipython3",
   "version": "3.10.9"
  },
  "orig_nbformat": 4,
  "vscode": {
   "interpreter": {
    "hash": "08804ff59ba42edf801cabf0150036e830ede650fb4c74b1d2ab081b0e1a309a"
   }
  }
 },
 "nbformat": 4,
 "nbformat_minor": 2
}
