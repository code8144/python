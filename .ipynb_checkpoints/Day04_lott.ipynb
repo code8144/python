{
 "cells": [
  {
   "cell_type": "code",
   "execution_count": 2,
   "metadata": {},
   "outputs": [
    {
     "name": "stdout",
     "output_type": "stream",
     "text": [
      "Most common 6-digit Lotto number: 1\n"
     ]
    }
   ],
   "source": [
    "csv_data=[]\n",
    "with open('lott.CSV') as f:\n",
    "    for line in f:\n",
    "        csv_data.append(line[0:-1].split(','))\n",
    "        #csv_data.append(line.remove('\\n','').split(','))\n",
    "print(csv_data[:3])\n",
    "int(csv_data[0][-1])"
   ]
  },
  {
   "cell_type": "code",
   "execution_count": 29,
   "metadata": {},
   "outputs": [
    {
     "name": "stdout",
     "output_type": "stream",
     "text": [
      "[[1, 5, 17, 26, 27, 35, 38], [21, 26, 30, 32, 33, 35, 44], [6, 12, 31, 35, 38, 43, 17]]\n"
     ]
    }
   ],
   "source": [
    "for e in csv_data:\n",
    "    for i, s in enumerate(e):\n",
    "        e[i] = int(s)\n",
    "print(csv_data[:3])"
   ]
  },
  {
   "cell_type": "code",
   "execution_count": 34,
   "metadata": {},
   "outputs": [
    {
     "name": "stdout",
     "output_type": "stream",
     "text": [
      "['5', '17', '26', '27', '35', '38', '1']\n"
     ]
    },
    {
     "ename": "TypeError",
     "evalue": "unsupported operand type(s) for +: 'int' and 'str'",
     "output_type": "error",
     "traceback": [
      "\u001b[1;31m---------------------------------------------------------------------------\u001b[0m",
      "\u001b[1;31mTypeError\u001b[0m                                 Traceback (most recent call last)",
      "Cell \u001b[1;32mIn[34], line 17\u001b[0m\n\u001b[0;32m     15\u001b[0m game1 \u001b[39m=\u001b[39m csv_data[\u001b[39m0\u001b[39m]\n\u001b[0;32m     16\u001b[0m \u001b[39mprint\u001b[39m(game1)\n\u001b[1;32m---> 17\u001b[0m \u001b[39mprint\u001b[39m(mean(game1))\n\u001b[0;32m     18\u001b[0m \u001b[39mprint\u001b[39m(game1\u001b[39m.\u001b[39msort())\n\u001b[0;32m     19\u001b[0m \u001b[39mprint\u001b[39m(game1[\u001b[39m1\u001b[39m:])\n",
      "Cell \u001b[1;32mIn[34], line 2\u001b[0m, in \u001b[0;36mmean\u001b[1;34m(num_list)\u001b[0m\n\u001b[0;32m      1\u001b[0m \u001b[39mdef\u001b[39;00m \u001b[39mmean\u001b[39m(num_list):\n\u001b[1;32m----> 2\u001b[0m     \u001b[39mreturn\u001b[39;00m \u001b[39msum\u001b[39;49m(num_list) \u001b[39m/\u001b[39m \u001b[39mlen\u001b[39m(num_list)\n",
      "\u001b[1;31mTypeError\u001b[0m: unsupported operand type(s) for +: 'int' and 'str'"
     ]
    }
   ],
   "source": [
    "def mean(num_list):\n",
    "    return sum(num_list) / len(num_list)\n",
    "\n",
    "\n",
    "\n",
    "def median(num_list):\n",
    "    num_list.sort()\n",
    "    if len(num_list)%2 == 1:\n",
    "        i = (len(num_list)+1) // 2\n",
    "        return num_list[int(i)]\n",
    "    else:\n",
    "        i = len(num_list)//2\n",
    "        return (num_list[i] + num_list[i-1]) / 2\n",
    "\n",
    "game1 = csv_data[0]\n",
    "print(game1)\n",
    "print(mean(game1))\n",
    "print(game1.sort())\n",
    "print(game1[1:])\n",
    "print(median([1 ,5, 17, 26, 27, 35, 38]))\n",
    "print(median([5, 17, 26, 27, 35, 38]))\n",
    "\n",
    "assert median([5, 17, 26, 27, 35, 38, 1]) == 26\n",
    "assert median([5, 17, 26, 27, 35, 38]) == 26.5"
   ]
  },
  {
   "cell_type": "code",
   "execution_count": 35,
   "metadata": {},
   "outputs": [
    {
     "name": "stdout",
     "output_type": "stream",
     "text": [
      "[1, 5, 17, 26, 27, 35, 38]\n",
      "after sorted [5, 17, 26, 27, 35, 38, 1]\n",
      "[1, 5, 17, 26, 27, 35, 38]\n"
     ]
    }
   ],
   "source": [
    "# in-place\n",
    "list_a = [5, 17, 26, 27, 35, 38, 1]\n",
    "print(sorted(list_a))\n",
    "print('after sorted', list_a)\n",
    "\n",
    "list_a.sort()\n",
    "print(list_a)"
   ]
  },
  {
   "cell_type": "code",
   "execution_count": 37,
   "metadata": {},
   "outputs": [
    {
     "name": "stdout",
     "output_type": "stream",
     "text": [
      "list_a :  [5, 17, 26, 27, 35, 38, 1]\n",
      "list_b [5, 17, 26, 27, 35, 38, 1]\n",
      "list_a :  [100, 17, 26, 27, 35, 38, 1]\n",
      "list_b [5, 17, 26, 27, 35, 38, 1]\n"
     ]
    }
   ],
   "source": [
    "# reference\n",
    "list_a = [5, 17, 26, 27, 35, 38, 1]\n",
    "list_b = []\n",
    "for i in list_a:\n",
    "    list_b.append(i)\n",
    "\n",
    "print('list_a : ', list_a)\n",
    "print('list_b', list_b)\n",
    "list_a[0] = 100\n",
    "print('list_a : ', list_a)\n",
    "print('list_b', list_b)"
   ]
  }
 ],
 "metadata": {
  "kernelspec": {
   "display_name": "Python 3",
   "language": "python",
   "name": "python3"
  },
  "language_info": {
   "codemirror_mode": {
    "name": "ipython",
    "version": 3
   },
   "file_extension": ".py",
   "mimetype": "text/x-python",
   "name": "python",
   "nbconvert_exporter": "python",
   "pygments_lexer": "ipython3",
   "version": "3.10.9"
  },
  "orig_nbformat": 4,
  "vscode": {
   "interpreter": {
    "hash": "08804ff59ba42edf801cabf0150036e830ede650fb4c74b1d2ab081b0e1a309a"
   }
  }
 },
 "nbformat": 4,
 "nbformat_minor": 2
}
