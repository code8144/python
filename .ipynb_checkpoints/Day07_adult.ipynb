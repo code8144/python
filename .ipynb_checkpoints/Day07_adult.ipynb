{
 "cells": [
  {
   "attachments": {},
   "cell_type": "markdown",
   "metadata": {},
   "source": [
    "### 상관도 분석 : UCI REPO Adult 데이터\n",
    "\n",
    "* url : https://archive.ics.uci.edu/ml/machine-learning-databases/adult/adult.data\n",
    "* age / capital_gain 상관도\n",
    "* hours-per-week / capital gain 상관도"
   ]
  },
  {
   "cell_type": "code",
   "execution_count": 1,
   "metadata": {},
   "outputs": [],
   "source": [
    "import requests\n",
    "\n",
    "x = requests.get('https://archive.ics.uci.edu/ml/machine-learning-databases/adult/adult.data')"
   ]
  },
  {
   "cell_type": "code",
   "execution_count": 2,
   "metadata": {},
   "outputs": [
    {
     "ename": "NameError",
     "evalue": "name 'x' is not defined",
     "output_type": "error",
     "traceback": [
      "\u001b[1;31m---------------------------------------------------------------------------\u001b[0m",
      "\u001b[1;31mNameError\u001b[0m                                 Traceback (most recent call last)",
      "Cell \u001b[1;32mIn[2], line 1\u001b[0m\n\u001b[1;32m----> 1\u001b[0m pass1 \u001b[39m=\u001b[39m x\u001b[39m.\u001b[39mtext\u001b[39m.\u001b[39msplit(\u001b[39m'\u001b[39m\u001b[39m\\n\u001b[39;00m\u001b[39m'\u001b[39m)\n\u001b[0;32m      2\u001b[0m \u001b[39mprint\u001b[39m(pass1[\u001b[39m0\u001b[39m]\u001b[39m.\u001b[39msplit(\u001b[39m'\u001b[39m\u001b[39m,\u001b[39m\u001b[39m'\u001b[39m)[\u001b[39m0\u001b[39m]) \u001b[39m# age\u001b[39;00m\n\u001b[0;32m      3\u001b[0m \u001b[39m#print(pass1[0].split(',')[10]) # cap_gain\u001b[39;00m\n\u001b[0;32m      4\u001b[0m \u001b[39m#print(pass1[0].split(',')[12]) # hours_per_week\u001b[39;00m\n",
      "\u001b[1;31mNameError\u001b[0m: name 'x' is not defined"
     ]
    }
   ],
   "source": [
    "pass1 = x.text.split('\\n')\n",
    "print(pass1[0].split(',')[0]) # age\n",
    "#print(pass1[0].split(',')[10]) # cap_gain\n",
    "#print(pass1[0].split(',')[12]) # hours_per_week\n",
    "age_list = []\n",
    "cap_gain_list=[]\n",
    "hours_per_week_list=[]\n",
    "for e in pass1:\n",
    "    t = e.split(',')\n",
    "    age_list.append(t[0])\n",
    "    cap_gain_list.append(t[10])\n",
    "    hours_per_week_list.append(t[12])"
   ]
  },
  {
   "cell_type": "code",
   "execution_count": null,
   "metadata": {},
   "outputs": [],
   "source": [
    "import math\n",
    "\n",
    "def mean(num_list):\n",
    "   return sum(num_list)/len(num_list)\n",
    "\n",
    "def dev(num_list): # 편차\n",
    "    m = mean(num_list)\n",
    "    return [x-m for x in num_list]\n",
    "\n",
    "def var(num_list): # 분산\n",
    "    n = len(num_list)\n",
    "    d = dev(num_list)\n",
    "    return sum([x*x for x in d])/(n-1)\n",
    "\n",
    "def stdev(num_list): # 표준편차 \n",
    "    return math.sqrt(var(num_list))\n",
    "\n",
    "def covar(list_1, list_2): # 공분산\n",
    "    n = len(list_1)\n",
    "    list_1_dev = dev(list_1)\n",
    "    list_2_dev = dev(list_2)\n",
    "    return sum(x * y for x, y in zip(list_1_dev, list_2_dev)) / (n-1)\n",
    "\n",
    "def corel(list_1, list_2): #상관도 -1 ~ 1 \n",
    "    return covar(list_1, list_2) / (stdev(list_1)*stdev(list_2))"
   ]
  }
 ],
 "metadata": {
  "kernelspec": {
   "display_name": "Python 3",
   "language": "python",
   "name": "python3"
  },
  "language_info": {
   "codemirror_mode": {
    "name": "ipython",
    "version": 3
   },
   "file_extension": ".py",
   "mimetype": "text/x-python",
   "name": "python",
   "nbconvert_exporter": "python",
   "pygments_lexer": "ipython3",
   "version": "3.10.9"
  },
  "orig_nbformat": 4,
  "vscode": {
   "interpreter": {
    "hash": "08804ff59ba42edf801cabf0150036e830ede650fb4c74b1d2ab081b0e1a309a"
   }
  }
 },
 "nbformat": 4,
 "nbformat_minor": 2
}
