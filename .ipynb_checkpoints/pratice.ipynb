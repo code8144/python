{
 "cells": [
  {
   "cell_type": "code",
   "execution_count": 8,
   "metadata": {},
   "outputs": [
    {
     "name": "stdout",
     "output_type": "stream",
     "text": [
      "5\n",
      "16.0\n",
      "12\n",
      "5\n",
      "4\n",
      "4\n",
      "4.0\n"
     ]
    }
   ],
   "source": [
    "print(abs(-5)) # 절대값\n",
    "print(pow(4, 2)) # 4^2 = 4*4\n",
    "print(max(5,12)) # 12\n",
    "print(min(5, 12)) # 5\n",
    "\n",
    "from math import*\n",
    "print(floor(4.99)) # 내림. 4\n",
    "print(ceil(3.14)) # 올림. 4\n",
    "print(sqrt(16)) # 제곱근. 4"
   ]
  },
  {
   "cell_type": "code",
   "execution_count": 63,
   "metadata": {},
   "outputs": [
    {
     "name": "stdout",
     "output_type": "stream",
     "text": [
      "1\n",
      "44\n",
      "17\n",
      "11\n",
      "8\n",
      "43\n"
     ]
    }
   ],
   "source": [
    "from random import *\n",
    "# print(random()) # 0.0 ~ 1.0 미만의 임의의 값 생성\n",
    "# print(random() * 10) # 0.0 ~ 10.0 미만의 임의의 값 생성\n",
    "# print(int(random() * 10)) # 0 ~ 10 미만의 임의의 값 생성\n",
    "# print(int(random() * 10)) # 0 ~ 10 미만의 임의의 값 생성\n",
    "# print(int(random() * 10)) # 0 ~ 10 미만의 임의의 값 생성\n",
    "# print(int(random() * 10) + 1) # 0 ~ 10 미만의 임의의 값 생성\n",
    "# print(int(random() * 10) + 1) # 0 ~ 10 미만의 임의의 값 생성\n",
    "# print(int(random() * 10) + 1) # 0 ~ 10 미만의 임의의 값 생성\n",
    "# print(int(random() * 10) + 1) # 0 ~ 10 미만의 임의의 값 생성\n",
    "# print(int(random() * 10) + 1) # 0 ~ 10 미만의 임의의 값 생성\n",
    "\n",
    "# print(int(random() * 45) + 1) # 1 ~ 45 이하의 임의의 값 생성(로또번호)\n",
    "# print(int(random() * 45) + 1) # 1 ~ 45 이하의 임의의 값 생성(로또번호)\n",
    "# print(int(random() * 45) + 1) # 1 ~ 45 이하의 임의의 값 생성(로또번호)\n",
    "# print(int(random() * 45) + 1) # 1 ~ 45 이하의 임의의 값 생성(로또번호)\n",
    "# print(int(random() * 45) + 1) # 1 ~ 45 이하의 임의의 값 생성(로또번호)\n",
    "# print(int(random() * 45) + 1) # 1 ~ 45 이하의 임의의 값 생성(로또번호)\n",
    "\n",
    "# print(randrange(1, 46)) # 1 ~ 45 미만의 임의의 값 생성\n",
    "# print(randrange(1, 46)) # 1 ~ 45 미만의 임의의 값 생성\n",
    "# print(randrange(1, 46)) # 1 ~ 45 미만의 임의의 값 생성\n",
    "# print(randrange(1, 46)) # 1 ~ 45 미만의 임의의 값 생성\n",
    "# print(randrange(1, 46)) # 1 ~ 45 미만의 임의의 값 생성\n",
    "# print(randrange(1, 46)) # 1 ~ 45 미만의 임의의 값 생성\n",
    "\n",
    "print(randint(1, 45)) # 1 ~ 45 이하의 임의의 값 생성\n",
    "print(randint(1, 45)) # 1 ~ 45 이하의 임의의 값 생성\n",
    "print(randint(1, 45)) # 1 ~ 45 이하의 임의의 값 생성\n",
    "print(randint(1, 45)) # 1 ~ 45 이하의 임의의 값 생성\n",
    "print(randint(1, 45)) # 1 ~ 45 이하의 임의의 값 생성\n",
    "print(randint(1, 45)) # 1 ~ 45 이하의 임의의 값 생성\n"
   ]
  },
  {
   "cell_type": "code",
   "execution_count": 77,
   "metadata": {},
   "outputs": [
    {
     "name": "stdout",
     "output_type": "stream",
     "text": [
      "오프라인 스터디 모음 날짜는 매월9일로 선정되었습니다.\n"
     ]
    }
   ],
   "source": [
    "a = randint(4, 28)\n",
    "print('오프라인 스터디 모음 날짜는 매월'+ str(a) + '일로 선정되었습니다.')"
   ]
  },
  {
   "cell_type": "code",
   "execution_count": 84,
   "metadata": {},
   "outputs": [
    {
     "name": "stdout",
     "output_type": "stream",
     "text": [
      "성별 : 1\n",
      "연 : 99\n",
      "월 : 01\n",
      "일 : 20\n"
     ]
    }
   ],
   "source": [
    "# 슬라이싱\n",
    "jumin = '990120-1234567'\n",
    "\n",
    "print('성별 : ' + jumin[7])\n",
    "print('연 : ' + jumin[0:2])\n",
    "print('월 : ' + jumin[2:4])\n",
    "print('일 : ' + jumin[4:6])"
   ]
  },
  {
   "cell_type": "code",
   "execution_count": 94,
   "metadata": {},
   "outputs": [
    {
     "name": "stdout",
     "output_type": "stream",
     "text": [
      "python is amazing\n",
      "PYTHON IS AMAZING\n",
      "True\n",
      "17\n",
      "Java is Amazing\n",
      "5\n",
      "15\n",
      "5\n"
     ]
    }
   ],
   "source": [
    "#문자열 처리 함수\n",
    "python = 'Python is Amazing'\n",
    "print(python.lower()) #소문자로 출력\n",
    "print(python.upper()) #대문자로 출력\n",
    "print(python[0].isupper()) #대문자가 맞냐\n",
    "print(len(python)) #문자열 길이\n",
    "print(python.replace('Python', 'Java')) #문자 바꾸기\n",
    "\n",
    "index = python.index('n')\n",
    "print(index)\n",
    "index = python.index('n', index +1)\n",
    "print(index)\n",
    "\n",
    "print(python.find('n'))\n"
   ]
  },
  {
   "cell_type": "code",
   "execution_count": 102,
   "metadata": {},
   "outputs": [
    {
     "name": "stdout",
     "output_type": "stream",
     "text": [
      "나는 28살입니다.\n",
      "나는 파이썬을 좋아해요.\n",
      "Apple 은 A로 시작해요.\n",
      "나는 파란색과 빨간색을 좋아해요.\n",
      "나는 20살 입니다.\n",
      "나는 파란색과 빨간색을 좋아해요\n",
      "나는 파란색과 빨간색을 좋아해요\n",
      "나는 빨간색과 파란색을 좋아해요\n",
      "나는 20살이며, 빨간색을 좋아해요.\n"
     ]
    }
   ],
   "source": [
    "#문자열 포맷\n",
    "print('나는 %d살입니다.' % 28) #d는 정수를 의미함\n",
    "print('나는 %s을 좋아해요.' % '파이썬') #s는 문자열\n",
    "print('Apple 은 %c로 시작해요.' % 'A')\n",
    "\n",
    "print(\"나는 %s색과 %s색을 좋아해요.\" % ('파란', '빨간'))\n",
    "print('나는 {}살 입니다.'.format(20))\n",
    "print('나는 {}색과 {}색을 좋아해요'.format('파란', '빨간'))\n",
    "print('나는 {0}색과 {1}색을 좋아해요'.format('파란', '빨간'))\n",
    "print('나는 {1}색과 {0}색을 좋아해요'.format('파란', '빨간'))\n",
    "\n",
    "print('나는 {age}살이며, {color}색을 좋아해요.'.format(age = 20, color = '빨간'))"
   ]
  },
  {
   "cell_type": "code",
   "execution_count": 103,
   "metadata": {},
   "outputs": [
    {
     "name": "stdout",
     "output_type": "stream",
     "text": [
      "백문이 불여일견\n",
      "백견이 불여일타\n"
     ]
    }
   ],
   "source": [
    "#탈출 문자\n",
    "print('백문이 불여일견\\n백견이 불여일타') # \\n 줄바꿈\n",
    "\n"
   ]
  },
  {
   "cell_type": "code",
   "execution_count": 122,
   "metadata": {},
   "outputs": [
    {
     "name": "stdout",
     "output_type": "stream",
     "text": [
      "http://google.com 의 비밀번호는 goo61! 입니다.\n"
     ]
    }
   ],
   "source": [
    "#예) http://naver.com\n",
    "#규칙 1 : http:// 부분은 제외 -> naver.com\n",
    "#규칙 2 : 처음 만나는 점(.) 이후 부분은 제외 -> naver\n",
    "#규칙 3 : 남은 글자 중 처음 세자리 + 글자 갯수 + 글자 내 'e' 갯수 + \"!\" 로 구성\n",
    "#                  (nav)              (5)            (1)           (!)\n",
    "#예) 생성된 비밀번호 : nav51!\n",
    "\n",
    "#내가 구한 값\n",
    "# password = 'naver.com'\n",
    "# password[:5]\n",
    "# print((password[:3]) + str(len(password[:5])) + str(password.count('e')))\n",
    "\n",
    "#정답\n",
    "#url = 'http://naver.com'\n",
    "url = 'http://google.com'\n",
    "my_str = url.replace('http://', '') #http://를 빈칸으로 바꿔줌\n",
    "my_str = my_str[:my_str.index('.')] \n",
    "password = my_str[:3] + str(len(my_str)) + str(my_str.count('e')) + '!'\n",
    "print('{0} 의 비밀번호는 {1} 입니다.'.format(url, password))\n",
    "\n",
    "\n",
    "\n"
   ]
  }
 ],
 "metadata": {
  "kernelspec": {
   "display_name": "Python 3",
   "language": "python",
   "name": "python3"
  },
  "language_info": {
   "codemirror_mode": {
    "name": "ipython",
    "version": 3
   },
   "file_extension": ".py",
   "mimetype": "text/x-python",
   "name": "python",
   "nbconvert_exporter": "python",
   "pygments_lexer": "ipython3",
   "version": "3.10.9"
  },
  "orig_nbformat": 4,
  "vscode": {
   "interpreter": {
    "hash": "08804ff59ba42edf801cabf0150036e830ede650fb4c74b1d2ab081b0e1a309a"
   }
  }
 },
 "nbformat": 4,
 "nbformat_minor": 2
}
