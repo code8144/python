{
 "cells": [
  {
   "cell_type": "code",
   "execution_count": 6,
   "metadata": {},
   "outputs": [
    {
     "name": "stdout",
     "output_type": "stream",
     "text": [
      "30\n",
      "<class 'str'>\n",
      "IndexError\n",
      "-1\n",
      "<class 'int'>\n"
     ]
    }
   ],
   "source": [
    "a = '30'\n",
    "print(a)\n",
    "print(type(a))\n",
    "\n",
    "x = []\n",
    "try:\n",
    "    #b = float(a)\n",
    "    print(x[0])\n",
    "except ValueError:\n",
    "    b= -1\n",
    "except IndexError:\n",
    "    print('IndexError')\n",
    "print(b)\n",
    "print(type(b))"
   ]
  }
 ],
 "metadata": {
  "kernelspec": {
   "display_name": "Python 3",
   "language": "python",
   "name": "python3"
  },
  "language_info": {
   "codemirror_mode": {
    "name": "ipython",
    "version": 3
   },
   "file_extension": ".py",
   "mimetype": "text/x-python",
   "name": "python",
   "nbconvert_exporter": "python",
   "pygments_lexer": "ipython3",
   "version": "3.10.9"
  },
  "orig_nbformat": 4,
  "vscode": {
   "interpreter": {
    "hash": "08804ff59ba42edf801cabf0150036e830ede650fb4c74b1d2ab081b0e1a309a"
   }
  }
 },
 "nbformat": 4,
 "nbformat_minor": 2
}
