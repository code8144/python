{
 "cells": [
  {
   "cell_type": "code",
   "execution_count": null,
   "metadata": {},
   "outputs": [],
   "source": [
    "weather = input('오늘 날씨는 어때요?')\n",
    "#if 조건:\n",
    "#   실행 명령문\n",
    "\n",
    "if weather == '비' or weather == '눈':\n",
    "    print('우산을 챙기세요')\n",
    "elif weather == '미세먼지':\n",
    "    print('마스크를 챙기세요')\n",
    "else:\n",
    "    print('준비물 필요없어요')\n"
   ]
  },
  {
   "cell_type": "code",
   "execution_count": 2,
   "metadata": {},
   "outputs": [
    {
     "name": "stdout",
     "output_type": "stream",
     "text": [
      "너무 더워요. 외출을 자제하세요\n"
     ]
    }
   ],
   "source": [
    "temp = int(input('기온은 어때요?'))\n",
    "if 30 <= temp:\n",
    "    print('너무 더워요. 외출을 자제하세요')\n",
    "elif 10<= temp and temp < 30:\n",
    "    print('괜찮은 날씨에요')\n",
    "elif 0 <= temp and temp < 10:\n",
    "    print('외투를 챙기세요')\n",
    "else:\n",
    "    print('너무 추워요. 외출을 자제하세요')"
   ]
  },
  {
   "cell_type": "code",
   "execution_count": null,
   "metadata": {},
   "outputs": [],
   "source": [
    "for waiting_no in range(1, 6): \n",
    "    print(\"대기번호 : {0}\".format(waiting_no))"
   ]
  },
  {
   "cell_type": "code",
   "execution_count": null,
   "metadata": {},
   "outputs": [],
   "source": [
    "starbucks = ['아이언맨', '토르', '그루트']\n",
    "for customer in starbucks:\n",
    "    print('{0}님의 커피가 준비되었습니다.'.format(customer))"
   ]
  },
  {
   "cell_type": "code",
   "execution_count": 1,
   "metadata": {},
   "outputs": [
    {
     "name": "stdout",
     "output_type": "stream",
     "text": [
      "토르님의 커피가 준비 되었습니다\n"
     ]
    }
   ],
   "source": [
    "#while\n",
    "customer = '토르'\n",
    "person = 'Unknown'\n",
    "\n",
    "while person != customer :\n",
    "    print('{0}님의 커피가 준비 되었습니다'.format(customer))\n",
    "    person = input('이름이 어떻게 되세요?')"
   ]
  },
  {
   "cell_type": "code",
   "execution_count": 7,
   "metadata": {},
   "outputs": [
    {
     "name": "stdout",
     "output_type": "stream",
     "text": [
      "1야 책을 읽어봐\n",
      "3야 책을 읽어봐\n",
      "4야 책을 읽어봐\n",
      "6야 책을 읽어봐\n",
      "오늘 수업 여기까지. 7은 교무실로 따라와\n"
     ]
    }
   ],
   "source": [
    "absent = [2, 5] # 결석\n",
    "no_book = [7] #책을 깜빡했음\n",
    "for student in range(1, 11): # 1~10번까지\n",
    "    if student in absent:\n",
    "        continue\n",
    "    elif student in no_book:\n",
    "        print('오늘 수업 여기까지. {0}은 교무실로 따라와'.format(student))\n",
    "        break\n",
    "    print('{0}야 책을 읽어봐'.format(student))"
   ]
  },
  {
   "cell_type": "code",
   "execution_count": 13,
   "metadata": {},
   "outputs": [
    {
     "name": "stdout",
     "output_type": "stream",
     "text": [
      "[8, 4, 5]\n",
      "['IRON MAN', 'THOR', 'GROOT']\n"
     ]
    }
   ],
   "source": [
    "# 출석번호가 1,2,3,4 앞에 100을 붙이기로 함 -> 101, 102, 103, 104\n",
    "# students = [1,2,3,4,5]\n",
    "# students = [i + 100 for i in students]\n",
    "# print(students)\n",
    "\n",
    "#학생 이름을 길이로 변환\n",
    "students = ['Iron man', 'Thor', 'groot']\n",
    "students = [len(i) for i in students]\n",
    "print(students)\n",
    "\n",
    "#학생 이름을 대문자로 변환\n",
    "students = ['Iron man', 'Thor', 'Groot']\n",
    "students = [i.upper() for i in students]\n",
    "print(students)"
   ]
  },
  {
   "cell_type": "code",
   "execution_count": null,
   "metadata": {},
   "outputs": [],
   "source": [
    "Quiz) 당신은 Cocoa 서비스를 이용하는 택시 기사님입니다.\n",
    "50명의 승객과 매칭 기회가 있을 때, 총 탑승 승각 수를 구하는 프로그램을 작성하시오.\n",
    "\n",
    "조건1 : 승객별 운행 소요 시간은 5분 ~ 50분 사이의 난수로 정해집니다.\n",
    "조건2 : 당신은 소요 시간 5분 ~ 15분 사이의 승혁만 매칭해야 합니다.\n",
    "\n",
    "(출력문 예제)\n",
    "[O] 1번째 손님 (소요시간 : 15분)\n",
    "[  ] 2번째 손님 (소요시간 : 50분)\n",
    "[O] 3번째 손님 (소요시간 : 5분)\n",
    "...\n",
    "[ ] 50번째 손님 (소요시간 : 16분)\n",
    "\n",
    "총 탑승 승객 : 2분"
   ]
  },
  {
   "cell_type": "code",
   "execution_count": 59,
   "metadata": {},
   "outputs": [
    {
     "name": "stdout",
     "output_type": "stream",
     "text": [
      "[ ] 1번째 손님 (소요시간 : 22분)\n",
      "[ ] 2번째 손님 (소요시간 : 20분)\n",
      "[ ] 3번째 손님 (소요시간 : 47분)\n",
      "[ ] 4번째 손님 (소요시간 : 18분)\n",
      "[ ] 5번째 손님 (소요시간 : 35분)\n",
      "[ ] 6번째 손님 (소요시간 : 32분)\n",
      "[O] 7번째 손님 (소요시간 : 10분)\n",
      "[ ] 8번째 손님 (소요시간 : 34분)\n",
      "[ ] 9번째 손님 (소요시간 : 43분)\n",
      "[ ] 10번째 손님 (소요시간 : 47분)\n",
      "[ ] 11번째 손님 (소요시간 : 29분)\n",
      "[ ] 12번째 손님 (소요시간 : 20분)\n",
      "[ ] 13번째 손님 (소요시간 : 39분)\n",
      "[ ] 14번째 손님 (소요시간 : 44분)\n",
      "[ ] 15번째 손님 (소요시간 : 23분)\n",
      "[ ] 16번째 손님 (소요시간 : 34분)\n",
      "[ ] 17번째 손님 (소요시간 : 49분)\n",
      "[O] 18번째 손님 (소요시간 : 14분)\n",
      "[ ] 19번째 손님 (소요시간 : 19분)\n",
      "[ ] 20번째 손님 (소요시간 : 18분)\n",
      "[O] 21번째 손님 (소요시간 : 6분)\n",
      "[ ] 22번째 손님 (소요시간 : 23분)\n",
      "[O] 23번째 손님 (소요시간 : 12분)\n",
      "[O] 24번째 손님 (소요시간 : 11분)\n",
      "[ ] 25번째 손님 (소요시간 : 32분)\n",
      "[ ] 26번째 손님 (소요시간 : 33분)\n",
      "[ ] 27번째 손님 (소요시간 : 23분)\n",
      "[ ] 28번째 손님 (소요시간 : 25분)\n",
      "[O] 29번째 손님 (소요시간 : 11분)\n",
      "[O] 30번째 손님 (소요시간 : 9분)\n",
      "[ ] 31번째 손님 (소요시간 : 24분)\n",
      "[ ] 32번째 손님 (소요시간 : 46분)\n",
      "[ ] 33번째 손님 (소요시간 : 41분)\n",
      "[ ] 34번째 손님 (소요시간 : 27분)\n",
      "[O] 35번째 손님 (소요시간 : 13분)\n",
      "[O] 36번째 손님 (소요시간 : 8분)\n",
      "[ ] 37번째 손님 (소요시간 : 17분)\n",
      "[ ] 38번째 손님 (소요시간 : 42분)\n",
      "[ ] 39번째 손님 (소요시간 : 18분)\n",
      "[ ] 40번째 손님 (소요시간 : 35분)\n",
      "[ ] 41번째 손님 (소요시간 : 16분)\n",
      "[ ] 42번째 손님 (소요시간 : 45분)\n",
      "[ ] 43번째 손님 (소요시간 : 25분)\n",
      "[ ] 44번째 손님 (소요시간 : 48분)\n",
      "[ ] 45번째 손님 (소요시간 : 18분)\n",
      "[O] 46번째 손님 (소요시간 : 5분)\n",
      "[ ] 47번째 손님 (소요시간 : 26분)\n",
      "[ ] 48번째 손님 (소요시간 : 46분)\n",
      "[O] 49번째 손님 (소요시간 : 14분)\n",
      "[ ] 50번째 손님 (소요시간 : 42분)\n",
      "총 탑승 승객 : 11분\n"
     ]
    }
   ],
   "source": [
    "from random import *\n",
    "count = 0\n",
    "for i in range(1, 51):\n",
    "    time = randrange(5, 50)\n",
    "    if 5 <= time <= 15:\n",
    "        count += 1\n",
    "        print('[O] {0}번째 손님 (소요시간 : {1}분)'.format(i, time))\n",
    "    else:\n",
    "        print('[ ] {0}번째 손님 (소요시간 : {1}분)'.format(i, time))\n",
    "\n",
    "print('총 탑승 승객 : {0}분'.format(count))\n"
   ]
  }
 ],
 "metadata": {
  "kernelspec": {
   "display_name": "Python 3",
   "language": "python",
   "name": "python3"
  },
  "language_info": {
   "codemirror_mode": {
    "name": "ipython",
    "version": 3
   },
   "file_extension": ".py",
   "mimetype": "text/x-python",
   "name": "python",
   "nbconvert_exporter": "python",
   "pygments_lexer": "ipython3",
   "version": "3.10.9"
  },
  "orig_nbformat": 4,
  "vscode": {
   "interpreter": {
    "hash": "08804ff59ba42edf801cabf0150036e830ede650fb4c74b1d2ab081b0e1a309a"
   }
  }
 },
 "nbformat": 4,
 "nbformat_minor": 2
}
